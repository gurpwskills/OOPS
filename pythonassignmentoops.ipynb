{
  "nbformat": 4,
  "nbformat_minor": 0,
  "metadata": {
    "colab": {
      "provenance": []
    },
    "kernelspec": {
      "name": "python3",
      "display_name": "Python 3"
    },
    "language_info": {
      "name": "python"
    }
  },
  "cells": [
    {
      "cell_type": "markdown",
      "source": [
        "PYTHON OOPS QUESTIONS."
      ],
      "metadata": {
        "id": "7CXDoa_PGLpS"
      }
    },
    {
      "cell_type": "markdown",
      "source": [
        "1. what is object-otriented programming (oops)?        \n",
        ": OOPS is a programmin paradogm that uses objects and classes to design and organize code, emphasing consepts like encapsulation, inheritence, and polymorphism.\n",
        "2. what is class in OOP?      \n",
        ": a class is a blue print for creating objects, defining properties (attributes) and behaviors (methods) taht the objects created from the class will have.\n",
        "3. what is an objects in OOP?       \n",
        ": an object is an instance of a class, created from the class blueprints, with its own set of data and methods.\n",
        "4. what is the difference between abstraction and encapsulation?      \n",
        ": abstraction hides complex implementation details and shows only the essential features, while encapsulation bundles data and methods together, restricting direct access to some of an objects components.\n",
        "5. what are dunder methods in python?     \n",
        ": dunder methods (e.g..,__init__,__str__) are special methods with double underscores,used to define how objects behave with builtin operations or functions in python.\n",
        "6. explain the concept of inheritance in OOP.     \n",
        ": Inheritance in OOP allows you to create new classes (child classes) based on existing classes (parent classes). The child class inherits the properties and behaviors of the parent class, and can also add its own unique features. This promotes code reusability and reduces redundancy.\n",
        "7. what is polymorphism in OOP?     \n",
        ": polymorphism allows methods to be used in different ways depending on the object calling them, enabling a single interface for general classes of actions.     \n",
        "8. how is incapsulation acheived in python?      \n",
        ": Encapsulation in Python is achieved using a combination of:\n",
        "\n",
        "   Bundling data and methods together within a class: This means that the data (attributes) and the methods that operate on that data are defined within the same class. This creates a logical grouping and keeps related elements together.\n",
        "  . Using access modifiers: Python uses a convention of prefixing attribute names with underscores to indicate their intended level of access:\n",
        ".Public attributes: No underscores, accessible from anywhere.\n",
        "Protected attributes: Single underscore prefix (_attribute), intended for internal use within the class and its subclasses.\n",
        "Private attributes: Double underscore prefix (__attribute), intended to be truly private and not directly accessible from outside the class.\n",
        ".Using getter and setter methods: These methods provide controlled access to the attributes, allowing for validation and data manipulation before setting or retrieving values.  \n",
        "9. what is constructer in python?     \n",
        ": a constructor is a special method__init__in a class, automatically called when a new object is created used to initialize object attribites.\n",
        "10. what are class and static methods in python?     \n",
        ": . class methods\n",
        "   (@classmethods) operate on the class itself and take cls as the first parameter.       \n",
        "  . static methods\n",
        "  (@staticmethod) behae like regular functions but belongs to the class , not requiring self or cls.\n",
        "11. what is method overloading in python?      \n",
        ": python does not support method overloading natively; instead, you can use default arguments or variable-length arguments to handle multiple methods calls.\n",
        "12. what is methods overriding in OOP?      \n",
        ": method overriding occurs when a child class proides a specific implementation of a method already defined in its perent class.\n",
        "13. what is a property decorator in python?\n",
        ": the @property decorator is used to define methods that can be accessed like attributes, allowing controlled access to class attributes.\n",
        "14. why is polymorphism important in OOP?\n",
        ": polymorphism enhances flexibility and reusabbility by allowing diiferent classes to be treated as instances of a common parent class, simplifying code design.\n",
        "15. what is an abstract class in python?\n",
        ": an abstract class that cannot be instantiated and may contain abstract methods (defined using abc ABC and @ absractmethod), intended to be inherited by others claases.\n",
        "16. what are the adantages of OOP?      \n",
        ": it offers modularity, can reuse, maintenance can be easier and ability to model real-world entities using classes and objects.\n",
        "17. what is the difference between a class variable and an instance variable?    \n",
        ": a class variable is shared across all  instances of a class, while an instance variable is unique to each objects and defined within __init__.\n",
        "18. what is multiple inheritance in python?      \n",
        ": multiple inheritance allows a class to inherit attributes and methods from more than one parent class.\n",
        "19. explain the purpose of __str__, __repr__ methods in python.      \n",
        ": . __str__ returns a human-readable string representation of an object, used by str().\n",
        "  __repr__returns a detailed string representation, ideally for debugging, used by repr().\n",
        "20. what is the significance of the super() function in python?     \n",
        ": super() is used to call a method from a perent class in inheritance, allowing access to overridden methods and enabling cooperative multiple inheritance.\n",
        "21. what is the significance of the __del__ method in python?     \n",
        ": __del__ is a destructer method that is called when an object is about to be destroyed, used for cleanup activities like closing files or releasing resourses.\n",
        "22. what is the difference between @staticmethod and @classmethod in python?\n",
        ": . @staticmethod defines a method that belongs to a class but doesn't take the instance or class as an argument, behaving like a regular fuction.\n",
        "  . @classmethod takes the class itself as an argument, behaving like a regular funtion.\n",
        "23. how does polymorphism work in python with python with inheritance?\n",
        ":  polymorphism allows methods to be used interchangeably with objects of diffrent classes in the same inheritance hierarchy, where a child class can override a parent class method, enabling flexible behavior.     \n",
        "24. what are the methods chaining in python OOP?\n",
        ": there are many methods chaining is a technique where multiple methods are called on the same object in a single line, returning the object itself to allow sequential method calls.\n",
        "25. what is the purpose of the __call__ method in python?\n",
        ": __call__ allows an object to be called as a function, enabling instances of a class to be invoked with arguments like a regular functions.\n",
        "      \n",
        "  \n"
      ],
      "metadata": {
        "id": "YO1rbrHSGJEy"
      }
    },
    {
      "cell_type": "markdown",
      "source": [
        "PRACTICAL QUESTIONS"
      ],
      "metadata": {
        "id": "s1KDK7MKnf5B"
      }
    },
    {
      "cell_type": "markdown",
      "source": [
        "1. create a parent class animal with a speak () method and a child class dog that overrides it.      \n",
        ": code >"
      ],
      "metadata": {
        "id": "zGVpNM2mnkrd"
      }
    },
    {
      "cell_type": "code",
      "source": [
        "class animal:\n",
        "    def speak(self):\n",
        "        print(\"generic sound\")\n",
        "class dog(animal):\n",
        "    def speak(self):\n",
        "        print(\"bark\")\n",
        "\n",
        "dog1=dog()\n",
        "dog1.speak()\n",
        ""
      ],
      "metadata": {
        "colab": {
          "base_uri": "https://localhost:8080/"
        },
        "id": "o26tGFtXqD-j",
        "outputId": "520d01c2-3d4a-420d-eea9-96b9f3e473d0"
      },
      "execution_count": 7,
      "outputs": [
        {
          "output_type": "stream",
          "name": "stdout",
          "text": [
            "bark\n"
          ]
        }
      ]
    },
    {
      "cell_type": "markdown",
      "source": [
        "2. write a program with an abstract class shape and derived classes circle and rectangle implementing the area () method.        \n",
        ": answer is below this."
      ],
      "metadata": {
        "id": "BpvWpy6Rv8v3"
      }
    },
    {
      "cell_type": "code",
      "source": [
        "from abc import ABC, abstractmethod\n",
        "class shape(ABC):\n",
        "  @abstractmethod\n",
        "  def area(self):\n",
        "    pass\n",
        "class circle(shape):\n",
        "    def area(self,radius):\n",
        "      return 3.14*radius*radius\n",
        "    class rectangle(shape):\n",
        "      def area(self,length,width):\n",
        "        return length*width\n",
        "        circle = circle(5)\n",
        "        rectangle = rectangle(4, 6)\n",
        "        print(\"Circle area:\", circle.area())\n",
        "        print(\"Rectangle area:\", rectangle.area())"
      ],
      "metadata": {
        "id": "mce7X0q8xvvj"
      },
      "execution_count": 11,
      "outputs": []
    },
    {
      "cell_type": "markdown",
      "source": [
        "3. implement a multi-level inheritance scenerio with classes vehicle, car, and electic car      \n",
        ": in the code section."
      ],
      "metadata": {
        "id": "1TNWij9iz7yY"
      }
    },
    {
      "cell_type": "code",
      "source": [
        "class vehicle:\n",
        "  def __init__(self, type):\n",
        "    self.type = type\n",
        "    class car(vehicle):\n",
        "      def __init__(self, type, model):\n",
        "        super().__init__(\"type\")\n",
        "        self.model = model\n",
        "        class electric_car(car):\n",
        "          def __init__(self, type, model, battery):\n",
        "            super().__init__(type, model)\n",
        "            self.battery = battery\n",
        "            ecar = \"electriccar\"(\"car\", \"tesla\", \"lithium\")\n",
        "            print(ecar.type, ecar.model, ecar.battery)"
      ],
      "metadata": {
        "colab": {
          "base_uri": "https://localhost:8080/"
        },
        "id": "ace8nNEV0oHZ",
        "outputId": "d7893cee-c8fd-4f77-f343-cba70db86420"
      },
      "execution_count": 17,
      "outputs": [
        {
          "output_type": "stream",
          "name": "stderr",
          "text": [
            "<>:12: SyntaxWarning: 'str' object is not callable; perhaps you missed a comma?\n",
            "<>:12: SyntaxWarning: 'str' object is not callable; perhaps you missed a comma?\n",
            "<ipython-input-17-23d660dab807>:12: SyntaxWarning: 'str' object is not callable; perhaps you missed a comma?\n",
            "  ecar = \"electriccar\"(\"car\", \"tesla\", \"lithium\")\n"
          ]
        }
      ]
    },
    {
      "cell_type": "markdown",
      "source": [
        "4. demonstrate polymorphism with a base class bird and derived classes sparrow and oenguin overriding the fly() method.       \n",
        ": in the code section"
      ],
      "metadata": {
        "id": "jRC8hr8O3Mqx"
      }
    },
    {
      "cell_type": "code",
      "source": [],
      "metadata": {
        "id": "ualxKwZz3u8J"
      },
      "execution_count": null,
      "outputs": []
    },
    {
      "source": [
        "class Bird:\n",
        "    def fly(self):\n",
        "        print(\"Generic bird fly\")\n",
        "class Sparrow(Bird):\n",
        "    def fly(self):\n",
        "        print(\"Sparrow flies high\")\n",
        "class Penguin(Bird):\n",
        "    def fly(self):\n",
        "        print(\"Penguin cannot fly\")\n",
        "        birds=[Sparrow(), Penguin()]\n",
        "        for bird in birds:\n",
        "          bird.fly()"
      ],
      "cell_type": "code",
      "metadata": {
        "id": "20R_qPnb37GS"
      },
      "execution_count": 31,
      "outputs": []
    },
    {
      "cell_type": "markdown",
      "source": [
        "5. create a bankaccount class with private attributes balance and methods for deposits, withdraw, and checking balance.\n",
        ": in the code section."
      ],
      "metadata": {
        "id": "glyDjo806VyI"
      }
    },
    {
      "cell_type": "code",
      "source": [],
      "metadata": {
        "id": "2icDvUUW6zUF"
      },
      "execution_count": null,
      "outputs": []
    },
    {
      "source": [
        "class BankAccount:\n",
        "    def __init__(self, initial_balance=0):\n",
        "        self.__balance = initial_balance  # Private attribute for balance\n",
        "\n",
        "    def deposit(self, amount):\n",
        "        if amount > 0:\n",
        "            self.__balance += amount\n",
        "            print(f\"Deposited: ${amount:.2f}\")\n",
        "        else:\n",
        "            print(\"Invalid deposit amount.\")\n",
        "\n",
        "    def withdraw(self, amount):\n",
        "        if 0 < amount <= self.__balance:\n",
        "            self.__balance -= amount\n",
        "            print(f\"Withdrew: ${amount:.2f}\")\n",
        "        else:\n",
        "            print(\"Insufficient funds or invalid withdrawal amount.\")\n",
        "\n",
        "    def check_balance(self):\n",
        "        print(f\"Current balance: ${self.__balance:.2f}\")\n",
        "\n",
        "# Create an instance of the BankAccount class\n",
        "account = BankAccount(1000)  # Initial balance of $1000\n",
        "\n",
        "# Perform operations\n",
        "account.deposit(500)\n",
        "account.withdraw(200)\n",
        "account.check_balance()"
      ],
      "cell_type": "code",
      "metadata": {
        "colab": {
          "base_uri": "https://localhost:8080/"
        },
        "id": "QZx2_DSL7F4G",
        "outputId": "586a3277-07d6-40c5-bd2d-b5575398a7fc"
      },
      "execution_count": 32,
      "outputs": [
        {
          "output_type": "stream",
          "name": "stdout",
          "text": [
            "Deposited: $500.00\n",
            "Withdrew: $200.00\n",
            "Current balance: $1300.00\n"
          ]
        }
      ]
    },
    {
      "cell_type": "markdown",
      "source": [
        "6. show runtime polymorphism with a base class instrument and derived classes guitar and piano implementing the play() method.\n",
        "7. create a mathoperations class with a class method add_numbers() and a static method subtract_numbers().\n",
        "8. implement a person class with a class method to count the total number of persons created.\n",
        "9. write fraction class with attributes numerator and denominator, overriding the str method to display the fraction.  "
      ],
      "metadata": {
        "id": "QXDkVSdt7KWy"
      }
    },
    {
      "source": [
        "class Instrument:\n",
        "    def play(self):\n",
        "        print(\"Generic instrument sound\")\n",
        "\n",
        "class Guitar(Instrument):\n",
        "    def play(self):\n",
        "        print(\"Guitar strums\")\n",
        "\n",
        "class Piano(Instrument):\n",
        "    def play(self):\n",
        "        print(\"Piano keys play\")\n",
        "\n",
        "# Demonstrate runtime polymorphism\n",
        "instruments = [Guitar(), Piano()]\n",
        "for instrument in instruments:\n",
        "    instrument.play()"
      ],
      "cell_type": "code",
      "metadata": {
        "colab": {
          "base_uri": "https://localhost:8080/"
        },
        "id": "rmy1w-JI9AKn",
        "outputId": "47110aeb-acad-47b2-b9c6-18c8bf5d8f0f"
      },
      "execution_count": 36,
      "outputs": [
        {
          "output_type": "stream",
          "name": "stdout",
          "text": [
            "Guitar strums\n",
            "Piano keys play\n"
          ]
        }
      ]
    },
    {
      "cell_type": "markdown",
      "source": [],
      "metadata": {
        "id": "iaWla7nL9XvY"
      }
    },
    {
      "source": [
        "class MathOperations:\n",
        "    @classmethod\n",
        "    def add_numbers(cls, num1, num2):\n",
        "        return num1 + num2\n",
        "\n",
        "    @staticmethod\n",
        "    def subtract_numbers(num1, num2):\n",
        "        return num1 - num2\n",
        "\n",
        "# Usage\n",
        "result_add = MathOperations.add_numbers(5, 3)\n",
        "result_subtract = MathOperations.subtract_numbers(10, 4)\n",
        "\n",
        "print(f\"Addition: {result_add}\")\n",
        "print(f\"Subtraction: {result_subtract}\")"
      ],
      "cell_type": "code",
      "metadata": {
        "id": "TANoSA9F9J87"
      },
      "execution_count": null,
      "outputs": []
    },
    {
      "source": [
        "class Person:\n",
        "    person_count = 0  # Class variable to track count\n",
        "\n",
        "    def __init__(self, name):\n",
        "        self.name = name\n",
        "        Person.person_count += 1\n",
        "\n",
        "    @classmethod\n",
        "    def get_person_count(cls):\n",
        "        return cls.person_count\n",
        "\n",
        "# Create instances\n",
        "person1 = Person(\"Alice\")\n",
        "person2 = Person(\"Bob\")\n",
        "\n",
        "# Get person count\n",
        "total_persons = Person.get_person_count()\n",
        "print(f\"Total persons: {total_persons}\")"
      ],
      "cell_type": "code",
      "metadata": {
        "colab": {
          "base_uri": "https://localhost:8080/"
        },
        "id": "byb9hhi29MRJ",
        "outputId": "eb28a456-5d69-488d-a9a6-b45f747a17f2"
      },
      "execution_count": 35,
      "outputs": [
        {
          "output_type": "stream",
          "name": "stdout",
          "text": [
            "Total persons: 2\n"
          ]
        }
      ]
    },
    {
      "source": [
        "class Fraction:\n",
        "    def __init__(self, numerator, denominator):\n",
        "        self.numerator = numerator\n",
        "        self.denominator = denominator\n",
        "\n",
        "    def __str__(self):\n",
        "        return f\"{self.numerator}/{self.denominator}\"\n",
        "\n",
        "# Create a fraction\n",
        "fraction = Fraction(3, 4)\n",
        "\n",
        "# Display the fraction using the overridden __str__ method\n",
        "print(fraction)  # Output: 3/4"
      ],
      "cell_type": "code",
      "metadata": {
        "colab": {
          "base_uri": "https://localhost:8080/"
        },
        "id": "W0ruxed89OD-",
        "outputId": "a503434e-ac7f-4e00-c794-df47c9655066"
      },
      "execution_count": 34,
      "outputs": [
        {
          "output_type": "stream",
          "name": "stdout",
          "text": [
            "3/4\n"
          ]
        }
      ]
    },
    {
      "cell_type": "markdown",
      "source": [],
      "metadata": {
        "id": "eISm6BsU9bdv"
      }
    }
  ]
}